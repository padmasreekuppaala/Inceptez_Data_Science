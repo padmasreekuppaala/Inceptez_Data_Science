{
 "cells": [
  {
   "cell_type": "markdown",
   "metadata": {
    "id": "zw4nPj2qni9k"
   },
   "source": [
    "**1.**\t**Import the necessary package to**\n",
    "    a.\tSet the current working directory\n",
    "    b.\tChange the working directory\n"
   ]
  },
  {
   "cell_type": "code",
   "execution_count": 2,
   "metadata": {
    "id": "fy7Hj8mMnhg3"
   },
   "outputs": [],
   "source": [
    "import os"
   ]
  },
  {
   "cell_type": "code",
   "execution_count": 3,
   "metadata": {
    "colab": {
     "base_uri": "https://localhost:8080/",
     "height": 35
    },
    "id": "qP3bgIdIoT8G",
    "outputId": "3521b370-03af-480e-82de-d4877a983217"
   },
   "outputs": [
    {
     "data": {
      "text/plain": [
       "'D:\\\\Padmasree\\\\DataScience\\\\Python'"
      ]
     },
     "execution_count": 3,
     "metadata": {},
     "output_type": "execute_result"
    }
   ],
   "source": [
    "os.getcwd()"
   ]
  },
  {
   "cell_type": "code",
   "execution_count": 4,
   "metadata": {
    "id": "VGk4Vgeecvak"
   },
   "outputs": [],
   "source": [
    "os.chdir('D:\\\\Padmasree\\\\DataScience')"
   ]
  },
  {
   "cell_type": "code",
   "execution_count": 5,
   "metadata": {},
   "outputs": [
    {
     "data": {
      "text/plain": [
       "'D:\\\\Padmasree\\\\DataScience'"
      ]
     },
     "execution_count": 5,
     "metadata": {},
     "output_type": "execute_result"
    }
   ],
   "source": [
    "os.getcwd()"
   ]
  },
  {
   "cell_type": "code",
   "execution_count": 6,
   "metadata": {},
   "outputs": [],
   "source": [
    "os.chdir('D:\\\\Padmasree\\\\DataScience\\\\Python')"
   ]
  },
  {
   "cell_type": "code",
   "execution_count": 7,
   "metadata": {},
   "outputs": [
    {
     "data": {
      "text/plain": [
       "'D:\\\\Padmasree\\\\DataScience\\\\Python'"
      ]
     },
     "execution_count": 7,
     "metadata": {},
     "output_type": "execute_result"
    }
   ],
   "source": [
    "os.getcwd()"
   ]
  },
  {
   "cell_type": "markdown",
   "metadata": {
    "id": "t8hB5tPFpp1J"
   },
   "source": [
    "**2**.\t**Create the string, int and float variable and delete them all in the next cell**"
   ]
  },
  {
   "cell_type": "code",
   "execution_count": 4,
   "metadata": {
    "id": "t_h4krvypsRg"
   },
   "outputs": [],
   "source": [
    "strVar = \"padmasree\"\n",
    "intVar = 123\n",
    "floatVar = 0.247"
   ]
  },
  {
   "cell_type": "code",
   "execution_count": 5,
   "metadata": {
    "colab": {
     "base_uri": "https://localhost:8080/"
    },
    "id": "Wm6xFalhp4rc",
    "outputId": "e7998eef-cd87-4ef7-df80-5bbdec96247f"
   },
   "outputs": [
    {
     "data": {
      "text/plain": [
       "('padmasree', 123, 0.247)"
      ]
     },
     "execution_count": 5,
     "metadata": {},
     "output_type": "execute_result"
    }
   ],
   "source": [
    "strVar,intVar,floatVar"
   ]
  },
  {
   "cell_type": "code",
   "execution_count": 6,
   "metadata": {
    "id": "pM0euV9RqBrY"
   },
   "outputs": [],
   "source": [
    "del(strVar,intVar,floatVar)"
   ]
  },
  {
   "cell_type": "code",
   "execution_count": 7,
   "metadata": {
    "colab": {
     "base_uri": "https://localhost:8080/",
     "height": 166
    },
    "id": "GQcajXa-qIDK",
    "outputId": "15e119bf-c914-45bc-bf83-9c7aea0ea172"
   },
   "outputs": [
    {
     "ename": "NameError",
     "evalue": "ignored",
     "output_type": "error",
     "traceback": [
      "\u001b[0;31m---------------------------------------------------------------------------\u001b[0m",
      "\u001b[0;31mNameError\u001b[0m                                 Traceback (most recent call last)",
      "\u001b[0;32m<ipython-input-7-0a195803c093>\u001b[0m in \u001b[0;36m<module>\u001b[0;34m()\u001b[0m\n\u001b[0;32m----> 1\u001b[0;31m \u001b[0mstrVar\u001b[0m\u001b[0;34m,\u001b[0m\u001b[0mintVar\u001b[0m\u001b[0;34m,\u001b[0m\u001b[0mfloatVar\u001b[0m\u001b[0;34m\u001b[0m\u001b[0;34m\u001b[0m\u001b[0m\n\u001b[0m",
      "\u001b[0;31mNameError\u001b[0m: name 'strVar' is not defined"
     ]
    }
   ],
   "source": [
    "strVar,intVar,floatVar"
   ]
  },
  {
   "cell_type": "markdown",
   "metadata": {
    "id": "uLuGuFeDqdfS"
   },
   "source": [
    "*Error says that Variables strVar,intVar,floatVar created got deleted*"
   ]
  },
  {
   "cell_type": "markdown",
   "metadata": {
    "id": "nBmr_vIXrQnj"
   },
   "source": [
    "**3.\tWhat’s the result of assigning a value to a ‘keyword’?**\n",
    "**a.\tPlease highlight the error**\n"
   ]
  },
  {
   "cell_type": "code",
   "execution_count": 10,
   "metadata": {
    "colab": {
     "base_uri": "https://localhost:8080/",
     "height": 131
    },
    "id": "ffPgpqtYqL9H",
    "outputId": "04b8753d-c790-4f1c-f3e1-e3c8504d5205"
   },
   "outputs": [
    {
     "ename": "SyntaxError",
     "evalue": "ignored",
     "output_type": "error",
     "traceback": [
      "\u001b[0;36m  File \u001b[0;32m\"<ipython-input-10-1486863eaa24>\"\u001b[0;36m, line \u001b[0;32m1\u001b[0m\n\u001b[0;31m    del = \"assigning value to keyword del\"\u001b[0m\n\u001b[0m        ^\u001b[0m\n\u001b[0;31mSyntaxError\u001b[0m\u001b[0;31m:\u001b[0m invalid syntax\n"
     ]
    }
   ],
   "source": [
    "del = \"assigning value to keyword del\""
   ]
  },
  {
   "cell_type": "markdown",
   "metadata": {
    "id": "0gnQBhn5JUls"
   },
   "source": [
    "**4.\tHow to write a multi-line statement and assign it to a variable (Note: Without using a backslash “\\” at the end of each line)**"
   ]
  },
  {
   "cell_type": "code",
   "execution_count": 18,
   "metadata": {
    "id": "dKsUV_JZrzLg"
   },
   "outputs": [],
   "source": [
    "multiStat = \"\"\"First Line Statement\n",
    "Second Line Statement\n",
    "Third Line Statement\"\"\""
   ]
  },
  {
   "cell_type": "code",
   "execution_count": 20,
   "metadata": {
    "colab": {
     "base_uri": "https://localhost:8080/"
    },
    "id": "6QZ7QsxrJqke",
    "outputId": "65382f4c-3e01-46f8-a7a9-ad4f08234f28"
   },
   "outputs": [
    {
     "name": "stdout",
     "output_type": "stream",
     "text": [
      "First Line Statement\n",
      "Second Line Statement\n",
      "Third Line Statement\n"
     ]
    }
   ],
   "source": [
    "print(multiStat)"
   ]
  },
  {
   "cell_type": "markdown",
   "metadata": {
    "id": "TZR43u0LLo0_"
   },
   "source": [
    "**5.\tPrint the list of numbers from 100 to 999 with an interval (step size) of 8 between the numbers**"
   ]
  },
  {
   "cell_type": "code",
   "execution_count": 23,
   "metadata": {
    "colab": {
     "base_uri": "https://localhost:8080/"
    },
    "id": "26B2h2BHJtIP",
    "outputId": "430dd6cb-e4b3-428d-ca61-91043100a029"
   },
   "outputs": [
    {
     "name": "stdout",
     "output_type": "stream",
     "text": [
      "100\n",
      "108\n",
      "116\n",
      "124\n",
      "132\n",
      "140\n",
      "148\n",
      "156\n",
      "164\n",
      "172\n",
      "180\n",
      "188\n",
      "196\n",
      "204\n",
      "212\n",
      "220\n",
      "228\n",
      "236\n",
      "244\n",
      "252\n",
      "260\n",
      "268\n",
      "276\n",
      "284\n",
      "292\n",
      "300\n",
      "308\n",
      "316\n",
      "324\n",
      "332\n",
      "340\n",
      "348\n",
      "356\n",
      "364\n",
      "372\n",
      "380\n",
      "388\n",
      "396\n",
      "404\n",
      "412\n",
      "420\n",
      "428\n",
      "436\n",
      "444\n",
      "452\n",
      "460\n",
      "468\n",
      "476\n",
      "484\n",
      "492\n",
      "500\n",
      "508\n",
      "516\n",
      "524\n",
      "532\n",
      "540\n",
      "548\n",
      "556\n",
      "564\n",
      "572\n",
      "580\n",
      "588\n",
      "596\n",
      "604\n",
      "612\n",
      "620\n",
      "628\n",
      "636\n",
      "644\n",
      "652\n",
      "660\n",
      "668\n",
      "676\n",
      "684\n",
      "692\n",
      "700\n",
      "708\n",
      "716\n",
      "724\n",
      "732\n",
      "740\n",
      "748\n",
      "756\n",
      "764\n",
      "772\n",
      "780\n",
      "788\n",
      "796\n",
      "804\n",
      "812\n",
      "820\n",
      "828\n",
      "836\n",
      "844\n",
      "852\n",
      "860\n",
      "868\n",
      "876\n",
      "884\n",
      "892\n",
      "900\n",
      "908\n",
      "916\n",
      "924\n",
      "932\n",
      "940\n",
      "948\n",
      "956\n",
      "964\n",
      "972\n",
      "980\n",
      "988\n",
      "996\n"
     ]
    }
   ],
   "source": [
    "for i in range(100,999,8):\n",
    "  print(i)"
   ]
  },
  {
   "cell_type": "markdown",
   "metadata": {
    "id": "uaENn92lMUVI"
   },
   "source": [
    "**6.\tWrite a “for” loop to print out the ‘n’ values and break out of the statement if the value is ‘n/2’**"
   ]
  },
  {
   "cell_type": "code",
   "execution_count": 27,
   "metadata": {
    "colab": {
     "base_uri": "https://localhost:8080/"
    },
    "id": "SjxrGMqVL1I8",
    "outputId": "29701bf1-cc7e-46cb-b49e-b20ece0a86ef"
   },
   "outputs": [
    {
     "name": "stdout",
     "output_type": "stream",
     "text": [
      "0\n",
      "1\n",
      "2\n",
      "3\n"
     ]
    }
   ],
   "source": [
    "n = 8\n",
    "for i in range(n):\n",
    "  if(i == n/2):\n",
    "    break\n",
    "  else:\n",
    "    print(i)"
   ]
  },
  {
   "cell_type": "markdown",
   "metadata": {
    "id": "0quVIQsANCNl"
   },
   "source": [
    "**7.\tWrite a simple function and call the docstring from outside the function**"
   ]
  },
  {
   "cell_type": "code",
   "execution_count": 28,
   "metadata": {
    "id": "jJOJ5mqAM5CN"
   },
   "outputs": [],
   "source": [
    "def doc():\n",
    "  \"\"\"Docstring is called outside the function\"\"\""
   ]
  },
  {
   "cell_type": "code",
   "execution_count": 29,
   "metadata": {
    "colab": {
     "base_uri": "https://localhost:8080/"
    },
    "id": "UVqc0KGlNo3E",
    "outputId": "b3903ebf-5c5f-4693-a982-b62823a7eefa"
   },
   "outputs": [
    {
     "name": "stdout",
     "output_type": "stream",
     "text": [
      "Docstring is called outside the function\n"
     ]
    }
   ],
   "source": [
    "print(doc.__doc__)"
   ]
  },
  {
   "cell_type": "markdown",
   "metadata": {
    "id": "I8hOWfPANzvZ"
   },
   "source": [
    "**8.\tCreate a user-defined package in ‘site-packages’ with below 3 variables a, b and c. Import these variables and write a function to calculate the area  of triangle for below 3 sides (a, b, c). Calculate the semi-perimeter (s) first, to calculate the area of triangle (area) at last\n",
    "<< Formula to calculate semi-perimeter: s = (a+b+c )/2\n",
    "<< Formula to calculate area = (s*(s-a) * (s-b) * (s-c)) ** 0.5 >>\n",
    "a.\t15\n",
    "b.\t51\n",
    "c.\t17**\n"
   ]
  },
  {
   "cell_type": "code",
   "execution_count": 9,
   "metadata": {
    "id": "02IvC7oEl0Nk"
   },
   "outputs": [],
   "source": [
    "import myPackage"
   ]
  },
  {
   "cell_type": "code",
   "execution_count": 10,
   "metadata": {},
   "outputs": [],
   "source": [
    "from myPackage import triangleArea"
   ]
  },
  {
   "cell_type": "code",
   "execution_count": 11,
   "metadata": {},
   "outputs": [
    {
     "data": {
      "text/plain": [
       "(3.097937745838546e-14+505.93162828587816j)"
      ]
     },
     "execution_count": 11,
     "metadata": {},
     "output_type": "execute_result"
    }
   ],
   "source": [
    "triangleArea.triangle(15,51,17)"
   ]
  },
  {
   "cell_type": "markdown",
   "metadata": {
    "id": "k02KkFrkOG5K"
   },
   "source": [
    "  **9.\tWrite a list comprehension to print the odd numbers from 0 to 100**"
   ]
  },
  {
   "cell_type": "code",
   "execution_count": 30,
   "metadata": {
    "colab": {
     "base_uri": "https://localhost:8080/"
    },
    "id": "tNdpqMyqOU7f",
    "outputId": "730697d1-bedf-4e6d-e856-c4d4a55bff8b"
   },
   "outputs": [
    {
     "data": {
      "text/plain": [
       "[1,\n",
       " 3,\n",
       " 5,\n",
       " 7,\n",
       " 9,\n",
       " 11,\n",
       " 13,\n",
       " 15,\n",
       " 17,\n",
       " 19,\n",
       " 21,\n",
       " 23,\n",
       " 25,\n",
       " 27,\n",
       " 29,\n",
       " 31,\n",
       " 33,\n",
       " 35,\n",
       " 37,\n",
       " 39,\n",
       " 41,\n",
       " 43,\n",
       " 45,\n",
       " 47,\n",
       " 49,\n",
       " 51,\n",
       " 53,\n",
       " 55,\n",
       " 57,\n",
       " 59,\n",
       " 61,\n",
       " 63,\n",
       " 65,\n",
       " 67,\n",
       " 69,\n",
       " 71,\n",
       " 73,\n",
       " 75,\n",
       " 77,\n",
       " 79,\n",
       " 81,\n",
       " 83,\n",
       " 85,\n",
       " 87,\n",
       " 89,\n",
       " 91,\n",
       " 93,\n",
       " 95,\n",
       " 97,\n",
       " 99]"
      ]
     },
     "execution_count": 30,
     "metadata": {},
     "output_type": "execute_result"
    }
   ],
   "source": [
    "[i for i in range(100) if i%2 == 1]"
   ]
  },
  {
   "cell_type": "markdown",
   "metadata": {
    "id": "B2hYSpd8OMLU"
   },
   "source": [
    "**10.\t Create a variable (ex: name) and store your full name in it. Then write a list comprehension to print your name excluding vowels (a, e, i, o, u)\n",
    "a.\tEx: name = Imran\n",
    "b.\tOutput = [‘m’, ‘r’, ‘n’] **\n"
   ]
  },
  {
   "cell_type": "code",
   "execution_count": 40,
   "metadata": {
    "colab": {
     "base_uri": "https://localhost:8080/"
    },
    "id": "HC9Z77CwOLNs",
    "outputId": "830446a3-5b4c-4ba6-9046-c814a538b56e"
   },
   "outputs": [
    {
     "data": {
      "text/plain": [
       "['p', 'd', 'm', 's', 'r', 'k', 'p', 'p', 'l']"
      ]
     },
     "execution_count": 40,
     "metadata": {},
     "output_type": "execute_result"
    }
   ],
   "source": [
    "name = \"padmasreekuppaala\"\n",
    "vowels = ['a','e','i','o','u']\n",
    "[i for i in name if i not in vowels]"
   ]
  },
  {
   "cell_type": "code",
   "execution_count": null,
   "metadata": {
    "id": "4EWsJM-2PHZG"
   },
   "outputs": [],
   "source": []
  }
 ],
 "metadata": {
  "colab": {
   "name": "Assignment-W2-W3.ipynb",
   "provenance": []
  },
  "kernelspec": {
   "display_name": "Python 3 (ipykernel)",
   "language": "python",
   "name": "python3"
  },
  "language_info": {
   "codemirror_mode": {
    "name": "ipython",
    "version": 3
   },
   "file_extension": ".py",
   "mimetype": "text/x-python",
   "name": "python",
   "nbconvert_exporter": "python",
   "pygments_lexer": "ipython3",
   "version": "3.9.7"
  }
 },
 "nbformat": 4,
 "nbformat_minor": 1
}
