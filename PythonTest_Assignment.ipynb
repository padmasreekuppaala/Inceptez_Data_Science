{
 "cells": [
  {
   "cell_type": "code",
   "execution_count": 3,
   "id": "d9c8db98",
   "metadata": {},
   "outputs": [],
   "source": [
    "import os\n",
    "import numpy as np\n",
    "import pandas as pd"
   ]
  },
  {
   "cell_type": "markdown",
   "id": "7d3de0df",
   "metadata": {},
   "source": [
    "1.\tCreate a program that asks the user to enter their name and their age. Print out a message that tells them the year that they will turn 100 years old"
   ]
  },
  {
   "cell_type": "code",
   "execution_count": 2,
   "id": "3edd6bc4",
   "metadata": {},
   "outputs": [
    {
     "name": "stdout",
     "output_type": "stream",
     "text": [
      "Enter your nameJohn\n",
      "Enter your age31\n",
      "John will turn 100 years by the year 2091\n"
     ]
    }
   ],
   "source": [
    "# Ask user to enter the name and age\n",
    "name = input('Enter your name')\n",
    "age = input('Enter your age')\n",
    "year = 2022 + (100-int(age))\n",
    "print(name, 'will turn 100 years by the year', year)"
   ]
  },
  {
   "cell_type": "markdown",
   "id": "cc33eeed",
   "metadata": {},
   "source": [
    "2.\tWhat is pandas groupby? Demonstrate with your own example"
   ]
  },
  {
   "cell_type": "code",
   "execution_count": 48,
   "id": "49e8576b",
   "metadata": {},
   "outputs": [],
   "source": [
    "# Creating data array for the below mentioned table\n",
    "dfArray4 = {'Age':[25,30,45,35,33,35,25,52,21,24,48,22,27,28,21,51,23],\n",
    "            'Hair Color':['Black','Black','Red','Blond','Brown','Brown','Black','Brown','Blond','Blond','Black','Black','Brown','Black','Blond','Black','Brown'],\n",
    "            'US Region':['Southwest','Northwest','Northeast','Southwest','Southwest','Northeast','Southwest','Southeast','Southwest','Northeast','Southwest','Southwest','Northeast','Southeast','Southeast','Northwest','Southeast'],\n",
    "            'Validation':[1,1,1,0,0,0,0,0,1,0,1,0,0,1,1,0,1]  }\n",
    "\n",
    "# Cteating data frame for the array\n",
    "df7 = pd.DataFrame(dfArray4)"
   ]
  },
  {
   "cell_type": "code",
   "execution_count": 49,
   "id": "af9d886e",
   "metadata": {},
   "outputs": [
    {
     "data": {
      "text/plain": [
       "US Region\n",
       "Northeast    32.750000\n",
       "Northwest    40.500000\n",
       "Southeast    31.000000\n",
       "Southwest    29.857143\n",
       "Name: Age, dtype: float64"
      ]
     },
     "execution_count": 49,
     "metadata": {},
     "output_type": "execute_result"
    }
   ],
   "source": [
    "df7.groupby(['US Region'])['Age'].mean()"
   ]
  },
  {
   "cell_type": "markdown",
   "id": "9c6ee2b7",
   "metadata": {},
   "source": [
    "3.\tHow to create a dataframe from list?"
   ]
  },
  {
   "cell_type": "code",
   "execution_count": 31,
   "id": "8029074f",
   "metadata": {},
   "outputs": [
    {
     "data": {
      "text/html": [
       "<div>\n",
       "<style scoped>\n",
       "    .dataframe tbody tr th:only-of-type {\n",
       "        vertical-align: middle;\n",
       "    }\n",
       "\n",
       "    .dataframe tbody tr th {\n",
       "        vertical-align: top;\n",
       "    }\n",
       "\n",
       "    .dataframe thead th {\n",
       "        text-align: right;\n",
       "    }\n",
       "</style>\n",
       "<table border=\"1\" class=\"dataframe\">\n",
       "  <thead>\n",
       "    <tr style=\"text-align: right;\">\n",
       "      <th></th>\n",
       "      <th>0</th>\n",
       "      <th>1</th>\n",
       "      <th>2</th>\n",
       "      <th>3</th>\n",
       "      <th>4</th>\n",
       "    </tr>\n",
       "  </thead>\n",
       "  <tbody>\n",
       "    <tr>\n",
       "      <th>0</th>\n",
       "      <td>1</td>\n",
       "      <td>2</td>\n",
       "      <td>3</td>\n",
       "      <td>4</td>\n",
       "      <td>5</td>\n",
       "    </tr>\n",
       "    <tr>\n",
       "      <th>1</th>\n",
       "      <td>Six</td>\n",
       "      <td>Seven</td>\n",
       "      <td>Eight</td>\n",
       "      <td>9</td>\n",
       "      <td>10</td>\n",
       "    </tr>\n",
       "  </tbody>\n",
       "</table>\n",
       "</div>"
      ],
      "text/plain": [
       "     0      1      2  3   4\n",
       "0    1      2      3  4   5\n",
       "1  Six  Seven  Eight  9  10"
      ]
     },
     "execution_count": 31,
     "metadata": {},
     "output_type": "execute_result"
    }
   ],
   "source": [
    "list1 = np.array([[1,2,3,4,5],['Six','Seven','Eight',9,10]])\n",
    "pd.DataFrame(list1)"
   ]
  },
  {
   "cell_type": "markdown",
   "id": "41fd8be0",
   "metadata": {},
   "source": [
    "4.\tWhat are the ways to combine the dataframe in pandas. Give an example for each"
   ]
  },
  {
   "cell_type": "code",
   "execution_count": 32,
   "id": "8debaf0f",
   "metadata": {
    "scrolled": true
   },
   "outputs": [
    {
     "data": {
      "text/html": [
       "<div>\n",
       "<style scoped>\n",
       "    .dataframe tbody tr th:only-of-type {\n",
       "        vertical-align: middle;\n",
       "    }\n",
       "\n",
       "    .dataframe tbody tr th {\n",
       "        vertical-align: top;\n",
       "    }\n",
       "\n",
       "    .dataframe thead th {\n",
       "        text-align: right;\n",
       "    }\n",
       "</style>\n",
       "<table border=\"1\" class=\"dataframe\">\n",
       "  <thead>\n",
       "    <tr style=\"text-align: right;\">\n",
       "      <th></th>\n",
       "      <th>0</th>\n",
       "      <th>1</th>\n",
       "    </tr>\n",
       "  </thead>\n",
       "  <tbody>\n",
       "    <tr>\n",
       "      <th>0</th>\n",
       "      <td>One</td>\n",
       "      <td>2</td>\n",
       "    </tr>\n",
       "    <tr>\n",
       "      <th>1</th>\n",
       "      <td>Three</td>\n",
       "      <td>4</td>\n",
       "    </tr>\n",
       "    <tr>\n",
       "      <th>2</th>\n",
       "      <td>Five</td>\n",
       "      <td>6</td>\n",
       "    </tr>\n",
       "    <tr>\n",
       "      <th>0</th>\n",
       "      <td>Seven</td>\n",
       "      <td>8</td>\n",
       "    </tr>\n",
       "    <tr>\n",
       "      <th>1</th>\n",
       "      <td>Nine</td>\n",
       "      <td>10</td>\n",
       "    </tr>\n",
       "    <tr>\n",
       "      <th>2</th>\n",
       "      <td>Eleven</td>\n",
       "      <td>12</td>\n",
       "    </tr>\n",
       "  </tbody>\n",
       "</table>\n",
       "</div>"
      ],
      "text/plain": [
       "        0   1\n",
       "0     One   2\n",
       "1   Three   4\n",
       "2    Five   6\n",
       "0   Seven   8\n",
       "1    Nine  10\n",
       "2  Eleven  12"
      ]
     },
     "execution_count": 32,
     "metadata": {},
     "output_type": "execute_result"
    }
   ],
   "source": [
    "# we can combine dataframe in pandas row wise and column wise\n",
    "listFir = np.array([['One',2],['Three',4],['Five',6]])\n",
    "listSec = np.array([['Seven',8],['Nine',10],['Eleven',12]])\n",
    "df1 = pd.DataFrame(listFir)\n",
    "df2 = pd.DataFrame(listSec)\n",
    "\n",
    "dfResult1 = pd.concat([df1,df2], axis = 0)\n",
    "dfResult1"
   ]
  },
  {
   "cell_type": "code",
   "execution_count": 33,
   "id": "1eee3825",
   "metadata": {},
   "outputs": [
    {
     "data": {
      "text/html": [
       "<div>\n",
       "<style scoped>\n",
       "    .dataframe tbody tr th:only-of-type {\n",
       "        vertical-align: middle;\n",
       "    }\n",
       "\n",
       "    .dataframe tbody tr th {\n",
       "        vertical-align: top;\n",
       "    }\n",
       "\n",
       "    .dataframe thead th {\n",
       "        text-align: right;\n",
       "    }\n",
       "</style>\n",
       "<table border=\"1\" class=\"dataframe\">\n",
       "  <thead>\n",
       "    <tr style=\"text-align: right;\">\n",
       "      <th></th>\n",
       "      <th>0</th>\n",
       "      <th>1</th>\n",
       "      <th>0</th>\n",
       "      <th>1</th>\n",
       "    </tr>\n",
       "  </thead>\n",
       "  <tbody>\n",
       "    <tr>\n",
       "      <th>0</th>\n",
       "      <td>One</td>\n",
       "      <td>2</td>\n",
       "      <td>Seven</td>\n",
       "      <td>8</td>\n",
       "    </tr>\n",
       "    <tr>\n",
       "      <th>1</th>\n",
       "      <td>Three</td>\n",
       "      <td>4</td>\n",
       "      <td>Nine</td>\n",
       "      <td>10</td>\n",
       "    </tr>\n",
       "    <tr>\n",
       "      <th>2</th>\n",
       "      <td>Five</td>\n",
       "      <td>6</td>\n",
       "      <td>Eleven</td>\n",
       "      <td>12</td>\n",
       "    </tr>\n",
       "  </tbody>\n",
       "</table>\n",
       "</div>"
      ],
      "text/plain": [
       "       0  1       0   1\n",
       "0    One  2   Seven   8\n",
       "1  Three  4    Nine  10\n",
       "2   Five  6  Eleven  12"
      ]
     },
     "execution_count": 33,
     "metadata": {},
     "output_type": "execute_result"
    }
   ],
   "source": [
    "dfResult2 = pd.concat([df1,df2], axis = 1)\n",
    "dfResult2"
   ]
  },
  {
   "cell_type": "markdown",
   "id": "5b8bcefd",
   "metadata": {},
   "source": [
    "5.\tWhat is the difference between list and tuples in Python?"
   ]
  },
  {
   "cell_type": "markdown",
   "id": "fee7c5ac",
   "metadata": {},
   "source": [
    "List is immutable and we can change the values in the existing positions\n",
    "Tuple is mutable and we can't change the values in the exisiting positions \n",
    "where as we have some ways to change it like changing tuple in to a list, dividing the tuple in to elements"
   ]
  },
  {
   "cell_type": "code",
   "execution_count": 20,
   "id": "1019d913",
   "metadata": {},
   "outputs": [
    {
     "data": {
      "text/plain": [
       "[1, 2, 3, 30, 5]"
      ]
     },
     "execution_count": 20,
     "metadata": {},
     "output_type": "execute_result"
    }
   ],
   "source": [
    "list1 = [1,2,3,4,5]\n",
    "tuple1 = (1,2,3,4,5)\n",
    "list1[3]=30\n",
    "list1"
   ]
  },
  {
   "cell_type": "code",
   "execution_count": 21,
   "id": "5ca1edcf",
   "metadata": {},
   "outputs": [
    {
     "ename": "TypeError",
     "evalue": "'tuple' object does not support item assignment",
     "output_type": "error",
     "traceback": [
      "\u001b[1;31m---------------------------------------------------------------------------\u001b[0m",
      "\u001b[1;31mTypeError\u001b[0m                                 Traceback (most recent call last)",
      "\u001b[1;32mC:\\Users\\UMASHA~1\\AppData\\Local\\Temp/ipykernel_7312/3071272415.py\u001b[0m in \u001b[0;36m<module>\u001b[1;34m\u001b[0m\n\u001b[1;32m----> 1\u001b[1;33m \u001b[0mtuple1\u001b[0m\u001b[1;33m[\u001b[0m\u001b[1;36m3\u001b[0m\u001b[1;33m]\u001b[0m\u001b[1;33m=\u001b[0m \u001b[1;36m30\u001b[0m\u001b[1;33m\u001b[0m\u001b[1;33m\u001b[0m\u001b[0m\n\u001b[0m",
      "\u001b[1;31mTypeError\u001b[0m: 'tuple' object does not support item assignment"
     ]
    }
   ],
   "source": [
    "tuple1[3]= 30 # will get the below error as the tuple is mutable"
   ]
  },
  {
   "cell_type": "markdown",
   "id": "8688b446",
   "metadata": {},
   "source": [
    "6.\tFind out the mean, median and standard deviation of this numpy array -> np.array([1,5,3,100,4,48])"
   ]
  },
  {
   "cell_type": "code",
   "execution_count": 11,
   "id": "6de5e357",
   "metadata": {},
   "outputs": [
    {
     "name": "stdout",
     "output_type": "stream",
     "text": [
      "Mean:  26.833333333333332\n",
      "Median:  4.5\n",
      "Standard Deviation:  36.59424666377065\n"
     ]
    }
   ],
   "source": [
    "list2 = np.array([1,5,3,100,4,48])\n",
    "print('Mean: ',np.mean(list2))\n",
    "print('Median: ',np.median(list2))\n",
    "print('Standard Deviation: ',np.std(list2))"
   ]
  },
  {
   "cell_type": "markdown",
   "id": "a3f16be8",
   "metadata": {},
   "source": [
    "7.\tHow will you remove duplicate elements from a list?"
   ]
  },
  {
   "cell_type": "code",
   "execution_count": 25,
   "id": "27b7c131",
   "metadata": {},
   "outputs": [
    {
     "data": {
      "text/plain": [
       "{1, 2, 3, 4, 5, 6}"
      ]
     },
     "execution_count": 25,
     "metadata": {},
     "output_type": "execute_result"
    }
   ],
   "source": [
    "list4 = [1,1,2,3,4,4,5,6] # converting list to a set will remove the duplicates\n",
    "set1 = set(list4)\n",
    "set1"
   ]
  },
  {
   "cell_type": "markdown",
   "id": "f97b535b",
   "metadata": {},
   "source": [
    "8.\tWhat is a map() function in Python? Give an example"
   ]
  },
  {
   "cell_type": "markdown",
   "id": "5e7c4579",
   "metadata": {},
   "source": [
    "### Map function: \n",
    "Used to perform the operation on the values in the list and returns the result"
   ]
  },
  {
   "cell_type": "code",
   "execution_count": 15,
   "id": "f58d3554",
   "metadata": {},
   "outputs": [
    {
     "name": "stdout",
     "output_type": "stream",
     "text": [
      "[0, 1, 4, 9, 16]\n"
     ]
    }
   ],
   "source": [
    "list3 = list(range(5))\n",
    "result = list(map(lambda x:(x*x),list3))\n",
    "print(result)"
   ]
  },
  {
   "cell_type": "markdown",
   "id": "0055db1f",
   "metadata": {},
   "source": [
    "9.\tWhat is pass in Python?"
   ]
  },
  {
   "cell_type": "code",
   "execution_count": 26,
   "id": "18077da9",
   "metadata": {},
   "outputs": [
    {
     "name": "stdout",
     "output_type": "stream",
     "text": [
      "1\n",
      "3\n",
      "5\n",
      "7\n",
      "9\n"
     ]
    }
   ],
   "source": [
    "# pass will not break the function it will simply passes the step and goes continue\n",
    "for num in range(10):\n",
    "    if num%2 == 0:\n",
    "        pass\n",
    "    else:\n",
    "        print(num)"
   ]
  },
  {
   "cell_type": "markdown",
   "id": "21b7195d",
   "metadata": {},
   "source": [
    "10.\tWhat is vstack() in numpy? Give an example"
   ]
  },
  {
   "cell_type": "markdown",
   "id": "c426d92c",
   "metadata": {},
   "source": [
    "### VStack\n",
    "vstack in numpy is combining arrays in the vertical manner"
   ]
  },
  {
   "cell_type": "code",
   "execution_count": 19,
   "id": "ff0dcca2",
   "metadata": {},
   "outputs": [
    {
     "data": {
      "text/plain": [
       "array([[ 1,  2],\n",
       "       [ 3,  4],\n",
       "       [ 5,  6],\n",
       "       [ 7,  8],\n",
       "       [ 9, 10],\n",
       "       [11, 12]])"
      ]
     },
     "execution_count": 19,
     "metadata": {},
     "output_type": "execute_result"
    }
   ],
   "source": [
    "list4 = np.array([[1,2],[3,4],[5,6]])\n",
    "list5 = np.array([[7,8],[9,10],[11,12]])\n",
    "np.vstack((list4,list5))"
   ]
  },
  {
   "cell_type": "code",
   "execution_count": null,
   "id": "37e9d58c",
   "metadata": {},
   "outputs": [],
   "source": []
  }
 ],
 "metadata": {
  "kernelspec": {
   "display_name": "Python 3 (ipykernel)",
   "language": "python",
   "name": "python3"
  },
  "language_info": {
   "codemirror_mode": {
    "name": "ipython",
    "version": 3
   },
   "file_extension": ".py",
   "mimetype": "text/x-python",
   "name": "python",
   "nbconvert_exporter": "python",
   "pygments_lexer": "ipython3",
   "version": "3.9.7"
  }
 },
 "nbformat": 4,
 "nbformat_minor": 5
}
