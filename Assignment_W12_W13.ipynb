{
  "nbformat": 4,
  "nbformat_minor": 0,
  "metadata": {
    "colab": {
      "name": "Assignment-W12-W13.ipynb",
      "provenance": [],
      "authorship_tag": "ABX9TyMj8BUOQroMQNcCmhPArHw4",
      "include_colab_link": true
    },
    "kernelspec": {
      "name": "python3",
      "display_name": "Python 3"
    },
    "language_info": {
      "name": "python"
    }
  },
  "cells": [
    {
      "cell_type": "markdown",
      "metadata": {
        "id": "view-in-github",
        "colab_type": "text"
      },
      "source": [
        "<a href=\"https://colab.research.google.com/github/padmasreekuppaala/Python/blob/main/Assignment_W12_W13.ipynb\" target=\"_parent\"><img src=\"https://colab.research.google.com/assets/colab-badge.svg\" alt=\"Open In Colab\"/></a>"
      ]
    },
    {
      "cell_type": "markdown",
      "source": [
        "**1.\tGet the input for 2 variables though “input” function and pass them to a function to return the addition of two variables**"
      ],
      "metadata": {
        "id": "I2kvbvM2IabA"
      }
    },
    {
      "cell_type": "code",
      "source": [
        "a = input(\"Enter first value \")\n",
        "b = input(\"Enter second value \")\n",
        "\n",
        "def add(a,b):\n",
        "  return int(a)+int(b)\n",
        "\n",
        "sum = add(a,b)\n",
        "print('Sum is ',sum)\n"
      ],
      "metadata": {
        "colab": {
          "base_uri": "https://localhost:8080/"
        },
        "id": "4i0kCJ1iKuy7",
        "outputId": "248a00fd-7de9-40e1-ff98-2da7b1a05a9c"
      },
      "execution_count": 57,
      "outputs": [
        {
          "output_type": "stream",
          "name": "stdout",
          "text": [
            "Enter first value 10\n",
            "Enter second value 20\n",
            "Sum is  30\n"
          ]
        }
      ]
    },
    {
      "cell_type": "markdown",
      "source": [
        "**2.\tWhat happens if we try to add an int with str and vice versa. Please print out the error**"
      ],
      "metadata": {
        "id": "-dFTzFeqLrq3"
      }
    },
    {
      "cell_type": "code",
      "source": [
        "int_val = 10\n",
        "str_val = \"str\"\n",
        "\n",
        "int_val + str_val"
      ],
      "metadata": {
        "colab": {
          "base_uri": "https://localhost:8080/",
          "height": 201
        },
        "id": "ShudjHHHLwjs",
        "outputId": "e3577312-de02-409f-ebf2-7ff1996b7fd3"
      },
      "execution_count": 6,
      "outputs": [
        {
          "output_type": "error",
          "ename": "TypeError",
          "evalue": "ignored",
          "traceback": [
            "\u001b[0;31m---------------------------------------------------------------------------\u001b[0m",
            "\u001b[0;31mTypeError\u001b[0m                                 Traceback (most recent call last)",
            "\u001b[0;32m<ipython-input-6-de904a26054b>\u001b[0m in \u001b[0;36m<module>\u001b[0;34m()\u001b[0m\n\u001b[1;32m      2\u001b[0m \u001b[0mstr_val\u001b[0m \u001b[0;34m=\u001b[0m \u001b[0;34m\"str\"\u001b[0m\u001b[0;34m\u001b[0m\u001b[0;34m\u001b[0m\u001b[0m\n\u001b[1;32m      3\u001b[0m \u001b[0;34m\u001b[0m\u001b[0m\n\u001b[0;32m----> 4\u001b[0;31m \u001b[0mint_val\u001b[0m \u001b[0;34m+\u001b[0m \u001b[0mstr_val\u001b[0m\u001b[0;34m\u001b[0m\u001b[0;34m\u001b[0m\u001b[0m\n\u001b[0m",
            "\u001b[0;31mTypeError\u001b[0m: unsupported operand type(s) for +: 'int' and 'str'"
          ]
        }
      ]
    },
    {
      "cell_type": "code",
      "source": [
        "int_val = 10\n",
        "str_val = \"str\"\n",
        "\n",
        "str_val + int_val"
      ],
      "metadata": {
        "colab": {
          "base_uri": "https://localhost:8080/",
          "height": 201
        },
        "id": "bs3X_ruWMRUj",
        "outputId": "a3b11881-6bb8-4c4c-ff8b-4d6a8fa1aeff"
      },
      "execution_count": 7,
      "outputs": [
        {
          "output_type": "error",
          "ename": "TypeError",
          "evalue": "ignored",
          "traceback": [
            "\u001b[0;31m---------------------------------------------------------------------------\u001b[0m",
            "\u001b[0;31mTypeError\u001b[0m                                 Traceback (most recent call last)",
            "\u001b[0;32m<ipython-input-7-aa88cfc0aa18>\u001b[0m in \u001b[0;36m<module>\u001b[0;34m()\u001b[0m\n\u001b[1;32m      2\u001b[0m \u001b[0mstr_val\u001b[0m \u001b[0;34m=\u001b[0m \u001b[0;34m\"str\"\u001b[0m\u001b[0;34m\u001b[0m\u001b[0;34m\u001b[0m\u001b[0m\n\u001b[1;32m      3\u001b[0m \u001b[0;34m\u001b[0m\u001b[0m\n\u001b[0;32m----> 4\u001b[0;31m \u001b[0mstr_val\u001b[0m \u001b[0;34m+\u001b[0m \u001b[0mint_val\u001b[0m\u001b[0;34m\u001b[0m\u001b[0;34m\u001b[0m\u001b[0m\n\u001b[0m",
            "\u001b[0;31mTypeError\u001b[0m: can only concatenate str (not \"int\") to str"
          ]
        }
      ]
    },
    {
      "cell_type": "markdown",
      "source": [
        "**3.\tCreate a string variable for the word “Data Science” and see if the letter “s” is present in it using membership operators**"
      ],
      "metadata": {
        "id": "u672Cvj5I9Z_"
      }
    },
    {
      "cell_type": "code",
      "source": [
        "str_var = \"Data Science\"\n",
        "\n",
        "if 's' in str_var:\n",
        "  print('Yes')\n",
        "else:\n",
        "  print('No')"
      ],
      "metadata": {
        "colab": {
          "base_uri": "https://localhost:8080/"
        },
        "id": "CnsGHkAuMa86",
        "outputId": "56594f3c-b056-4708-82df-e442ebe9b234"
      },
      "execution_count": 10,
      "outputs": [
        {
          "output_type": "stream",
          "name": "stdout",
          "text": [
            "No\n"
          ]
        }
      ]
    },
    {
      "cell_type": "markdown",
      "source": [
        "**4.\tWrite a function and pass a number list as an argument to the function. And return True if the first and last number of a given list is same. If numbers are different then return False**"
      ],
      "metadata": {
        "id": "CKex3moNJAcb"
      }
    },
    {
      "cell_type": "code",
      "source": [
        "def numberFunction(numlist):\n",
        "  for a in numlist:\n",
        "    if numlist[0] == numlist[(len(numlist))-1]:\n",
        "      return True\n",
        "    else:\n",
        "      return False\n",
        "\n",
        "numberFunction([1,2,3,4,5,2,3,1])"
      ],
      "metadata": {
        "colab": {
          "base_uri": "https://localhost:8080/"
        },
        "id": "MvCm2LK7N0Un",
        "outputId": "3881fbb8-8a3c-463f-9831-f3797893680a"
      },
      "execution_count": 23,
      "outputs": [
        {
          "output_type": "execute_result",
          "data": {
            "text/plain": [
              "True"
            ]
          },
          "metadata": {},
          "execution_count": 23
        }
      ]
    },
    {
      "cell_type": "markdown",
      "source": [
        "**5.\tIterate the given list of numbers (l1) and print only those numbers which are divisible by 5. (l1 = [10, 20, 33, 46, 55])**"
      ],
      "metadata": {
        "id": "gmcr19UjJEOa"
      }
    },
    {
      "cell_type": "code",
      "source": [
        "l1 = [10, 20, 33, 46, 55]\n",
        "for i in l1:\n",
        "  if (i % 5 == 0):\n",
        "    print(i)"
      ],
      "metadata": {
        "colab": {
          "base_uri": "https://localhost:8080/"
        },
        "id": "G7fwtC0oRJzD",
        "outputId": "b6d7612a-8b35-4be5-e65e-0ead931f2b68"
      },
      "execution_count": 24,
      "outputs": [
        {
          "output_type": "stream",
          "name": "stdout",
          "text": [
            "10\n",
            "20\n",
            "55\n"
          ]
        }
      ]
    },
    {
      "cell_type": "markdown",
      "source": [
        "**6.\tWrite a program to create function calculation() such that it can accept two variables and calculate addition and subtraction. Also, it must return both addition and subtraction in a single return call.\n",
        "a.\tHint: Separate return values with a comma **"
      ],
      "metadata": {
        "id": "uFMckPI9JKs4"
      }
    },
    {
      "cell_type": "code",
      "source": [
        "def calculation(a,b):\n",
        "  add = a + b\n",
        "  sub = a - b\n",
        "\n",
        "  return (add,sub)\n",
        "\n",
        "calculation(10,5)"
      ],
      "metadata": {
        "colab": {
          "base_uri": "https://localhost:8080/"
        },
        "id": "xiCDaCTVRzG8",
        "outputId": "a391e130-e350-42fd-c361-0f8609ed28fc"
      },
      "execution_count": 27,
      "outputs": [
        {
          "output_type": "execute_result",
          "data": {
            "text/plain": [
              "(15, 5)"
            ]
          },
          "metadata": {},
          "execution_count": 27
        }
      ]
    },
    {
      "cell_type": "markdown",
      "source": [
        "**7.\tWrite a program to demonstrate the following Syntax error\n",
        "a.\tSyntaxError: non-default argument follows default argument **"
      ],
      "metadata": {
        "id": "hf4L6qu1JT3S"
      }
    },
    {
      "cell_type": "code",
      "source": [
        "def arguments(arg1='first argument',arg2):\n",
        "  print(arg1)\n",
        "  print(arg2)\n",
        "\n",
        "arguments('second argument')"
      ],
      "metadata": {
        "colab": {
          "base_uri": "https://localhost:8080/",
          "height": 131
        },
        "id": "Gf_E6F4qUPtr",
        "outputId": "0446ce34-22e6-4bf4-c399-c88e9ef205d4"
      },
      "execution_count": 31,
      "outputs": [
        {
          "output_type": "error",
          "ename": "SyntaxError",
          "evalue": "ignored",
          "traceback": [
            "\u001b[0;36m  File \u001b[0;32m\"<ipython-input-31-bdb88c01322b>\"\u001b[0;36m, line \u001b[0;32m1\u001b[0m\n\u001b[0;31m    def arguments(arg1='first argument',arg2):\u001b[0m\n\u001b[0m                 ^\u001b[0m\n\u001b[0;31mSyntaxError\u001b[0m\u001b[0;31m:\u001b[0m non-default argument follows default argument\n"
          ]
        }
      ]
    },
    {
      "cell_type": "markdown",
      "source": [
        "**8.\tWhat’s recursion? Explain in your own words and write a program to create a recursive function to calculate the sum of numbers from 0 to 10**\n",
        " "
      ],
      "metadata": {
        "id": "BG7voz1BJotg"
      }
    },
    {
      "cell_type": "markdown",
      "source": [
        "Recursion : Calling the same function repeatedly"
      ],
      "metadata": {
        "id": "IiD4GLIQ_Mr1"
      }
    },
    {
      "cell_type": "code",
      "source": [
        "def recursion(x):\n",
        "  if x == 0:\n",
        "    return x\n",
        "  else:\n",
        "    return (x + recursion(x-1))\n",
        "    \n",
        "num = 10\n",
        "print('Sum is ', recursion(num))"
      ],
      "metadata": {
        "colab": {
          "base_uri": "https://localhost:8080/"
        },
        "id": "3jWxrhoN-Al0",
        "outputId": "df6fcfc2-c5de-4c32-a46d-c6e80eee9405"
      },
      "execution_count": 55,
      "outputs": [
        {
          "output_type": "stream",
          "name": "stdout",
          "text": [
            "Sum is  55\n"
          ]
        }
      ]
    },
    {
      "cell_type": "markdown",
      "source": [
        "**9.\tUse filter and lambda function to calculate square for below numbers only if they are odd number\n",
        "a.\t[12, 11, 53, 22, 21, 77, 87, 88, 98] **"
      ],
      "metadata": {
        "id": "-yqT2VecJrzJ"
      }
    },
    {
      "cell_type": "code",
      "source": [
        "a = [12, 11, 53, 22, 21, 77, 87, 88, 98] \n",
        "li = list(filter(lambda x: x % 2 == 1, a))\n",
        "[a ** 2 for a in li]"
      ],
      "metadata": {
        "colab": {
          "base_uri": "https://localhost:8080/"
        },
        "id": "lbxttcTihwiP",
        "outputId": "a098a9ed-1284-465e-f4dc-88008142326a"
      },
      "execution_count": 43,
      "outputs": [
        {
          "output_type": "execute_result",
          "data": {
            "text/plain": [
              "[121, 2809, 441, 5929, 7569]"
            ]
          },
          "metadata": {},
          "execution_count": 43
        }
      ]
    },
    {
      "cell_type": "markdown",
      "source": [
        "**10.\t Write a function (not a lambda function) and use it to demonstrate an example for map function (any logical function of your choice)**"
      ],
      "metadata": {
        "id": "p50Cp9-hJya-"
      }
    },
    {
      "cell_type": "code",
      "source": [
        "def mod(li,var):\n",
        "  mylist = [b % var for b in li]\n",
        "  return mylist\n",
        "\n",
        "lt = list(map(lambda x : x * 3,mod([10,20, 40, 60, 81, 110, 35, 12],10)))\n",
        "print(lt)\n",
        "    "
      ],
      "metadata": {
        "colab": {
          "base_uri": "https://localhost:8080/"
        },
        "id": "zGlpeQglI1Qr",
        "outputId": "03c73162-94c8-4b6e-d361-9241a03b20ce"
      },
      "execution_count": 52,
      "outputs": [
        {
          "output_type": "stream",
          "name": "stdout",
          "text": [
            "[0, 0, 0, 0, 3, 0, 15, 6]\n"
          ]
        }
      ]
    },
    {
      "cell_type": "code",
      "source": [
        ""
      ],
      "metadata": {
        "id": "IQn5EfVv2Dev"
      },
      "execution_count": null,
      "outputs": []
    }
  ]
}