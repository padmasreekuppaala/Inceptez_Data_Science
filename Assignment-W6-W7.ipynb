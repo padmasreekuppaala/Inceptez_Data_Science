{
 "cells": [
  {
   "cell_type": "code",
   "execution_count": 225,
   "id": "5d28c6c9",
   "metadata": {},
   "outputs": [],
   "source": [
    "import os\n",
    "import pandas as pd\n",
    "import numpy as np"
   ]
  },
  {
   "cell_type": "markdown",
   "id": "0f95eac1",
   "metadata": {},
   "source": [
    "\n",
    "1.\tCreate a file calc.py which has following functions\n",
    "a.\tFunction to find the factorial of a number\n",
    "b.\tFunction to convert degree to Fahrenheit\n",
    "Write a new program in file “maths.py” such that you import functions of the file calc.py to your new program. Use from <module> import <functions> statement to import the functions from the calc module"
   ]
  },
  {
   "cell_type": "code",
   "execution_count": 267,
   "id": "488208fd",
   "metadata": {},
   "outputs": [],
   "source": [
    "import myPackage\n",
    "from myPackage import maths"
   ]
  },
  {
   "cell_type": "code",
   "execution_count": 271,
   "id": "23d5005a",
   "metadata": {},
   "outputs": [
    {
     "data": {
      "text/plain": [
       "120"
      ]
     },
     "execution_count": 271,
     "metadata": {},
     "output_type": "execute_result"
    }
   ],
   "source": [
    "maths.calc.factorial(5)"
   ]
  },
  {
   "cell_type": "code",
   "execution_count": 270,
   "id": "a1c283ab",
   "metadata": {},
   "outputs": [
    {
     "data": {
      "text/plain": [
       "89.6"
      ]
     },
     "execution_count": 270,
     "metadata": {},
     "output_type": "execute_result"
    }
   ],
   "source": [
    "maths.calc.dtof(32)"
   ]
  },
  {
   "cell_type": "markdown",
   "id": "fb41483c",
   "metadata": {},
   "source": [
    "2.\tImplement a simple generator for Fibonacci series"
   ]
  },
  {
   "cell_type": "code",
   "execution_count": 112,
   "id": "e9fa823b",
   "metadata": {},
   "outputs": [],
   "source": [
    "def generator_Fibonacci(num):\n",
    "    for i in range(num):\n",
    "        if i == 0:\n",
    "            n1 = i\n",
    "            yield i\n",
    "        elif i == 1:\n",
    "            n2 = i\n",
    "            yield i\n",
    "        else:\n",
    "            n3 = n1 + n2\n",
    "            yield (n3)\n",
    "            n1 = n2\n",
    "            n2 = n3"
   ]
  },
  {
   "cell_type": "code",
   "execution_count": 113,
   "id": "cdb1076a",
   "metadata": {},
   "outputs": [],
   "source": [
    "var1 = generator_Fibonacci(10)"
   ]
  },
  {
   "cell_type": "code",
   "execution_count": 114,
   "id": "db08d8f2",
   "metadata": {},
   "outputs": [
    {
     "name": "stdout",
     "output_type": "stream",
     "text": [
      "0\n",
      "1\n",
      "1\n",
      "2\n",
      "3\n",
      "5\n",
      "8\n",
      "13\n",
      "21\n",
      "34\n"
     ]
    }
   ],
   "source": [
    "print(next(var1))\n",
    "print(next(var1))\n",
    "print(next(var1))\n",
    "print(next(var1))\n",
    "print(next(var1))\n",
    "print(next(var1))\n",
    "print(next(var1))\n",
    "print(next(var1))\n",
    "print(next(var1))\n",
    "print(next(var1))"
   ]
  },
  {
   "cell_type": "markdown",
   "id": "9e9407c7",
   "metadata": {},
   "source": [
    "3.\tWrite an iterator class to iterate over a sequence of values in the reverse direction"
   ]
  },
  {
   "cell_type": "code",
   "execution_count": 135,
   "id": "d1df3df9",
   "metadata": {},
   "outputs": [
    {
     "name": "stdout",
     "output_type": "stream",
     "text": [
      "100\n",
      "90\n",
      "80\n",
      "70\n",
      "60\n",
      "50\n",
      "40\n",
      "30\n",
      "20\n",
      "10\n"
     ]
    }
   ],
   "source": [
    "seq = [10,20,30,40,50,60,70,80,90,100]\n",
    "\n",
    "myiter = reversed(seq)\n",
    "\n",
    "for i in range(len(seq)):\n",
    "    print(next(myiter))\n",
    "    "
   ]
  },
  {
   "cell_type": "markdown",
   "id": "f7e2d04e",
   "metadata": {},
   "source": [
    "4.\tWrite a function “salary” that takes in base pay, HRA and special allowance as arguments and returns the sum of all the 3 salary elements. Then create a decorator function to add an additional element “Tax” (30% of base pay) and assign it back to base pay variable, and return the function (i.e., the final calculation of salary also includes tax)"
   ]
  },
  {
   "cell_type": "code",
   "execution_count": 195,
   "id": "ab4a8b41",
   "metadata": {},
   "outputs": [],
   "source": [
    "def sal(fn):\n",
    "    def salary(basic,HRA,allowance):\n",
    "        tax = (30/100) * basic\n",
    "        basic1 = basic + tax\n",
    "        return fn(basic1,HRA,allowance)\n",
    "    return salary"
   ]
  },
  {
   "cell_type": "code",
   "execution_count": 196,
   "id": "7657ec5e",
   "metadata": {},
   "outputs": [],
   "source": [
    "@sal\n",
    "def sal1(basic,HRA,allowance):\n",
    "    print('Gross Salary is:', basic + HRA + allowance)\n",
    "    return basic + HRA + allowance"
   ]
  },
  {
   "cell_type": "code",
   "execution_count": 197,
   "id": "446e6b1c",
   "metadata": {},
   "outputs": [
    {
     "name": "stdout",
     "output_type": "stream",
     "text": [
      "Gross Salary is: 63.0\n"
     ]
    },
    {
     "data": {
      "text/plain": [
       "63.0"
      ]
     },
     "execution_count": 197,
     "metadata": {},
     "output_type": "execute_result"
    }
   ],
   "source": [
    "sal1(10,20,30)"
   ]
  },
  {
   "cell_type": "markdown",
   "id": "a8a8ad41",
   "metadata": {},
   "source": [
    "5.\tWrite 3 examples on possible methods to changing a tuple"
   ]
  },
  {
   "cell_type": "code",
   "execution_count": 146,
   "id": "14bb6856",
   "metadata": {},
   "outputs": [
    {
     "name": "stdout",
     "output_type": "stream",
     "text": [
      "(1, 31, 45, 78, 9)\n"
     ]
    }
   ],
   "source": [
    "tuple1 = (1,31,5,78,9)\n",
    "list1 = list(tuple1)\n",
    "list1[2] = 45\n",
    "tuple2 = tuple(list1)\n",
    "print(tuple2)"
   ]
  },
  {
   "cell_type": "code",
   "execution_count": 155,
   "id": "b70aaed8",
   "metadata": {},
   "outputs": [
    {
     "data": {
      "text/plain": [
       "(1, 31, 10, 12, 78, 9)"
      ]
     },
     "execution_count": 155,
     "metadata": {},
     "output_type": "execute_result"
    }
   ],
   "source": [
    "tuple1 = (1,31,5,78,9)\n",
    "tuple1[:2] + (10,12) + tuple1[3:]"
   ]
  }
 ],
 "metadata": {
  "kernelspec": {
   "display_name": "Python 3 (ipykernel)",
   "language": "python",
   "name": "python3"
  },
  "language_info": {
   "codemirror_mode": {
    "name": "ipython",
    "version": 3
   },
   "file_extension": ".py",
   "mimetype": "text/x-python",
   "name": "python",
   "nbconvert_exporter": "python",
   "pygments_lexer": "ipython3",
   "version": "3.9.7"
  }
 },
 "nbformat": 4,
 "nbformat_minor": 5
}
