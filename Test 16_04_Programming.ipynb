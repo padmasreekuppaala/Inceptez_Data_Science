{
 "cells": [
  {
   "cell_type": "markdown",
   "id": "4367532b",
   "metadata": {},
   "source": [
    "1. Write a program (with function) which takes a sequence of numbers and check if all \n",
    "numbers are unique."
   ]
  },
  {
   "cell_type": "code",
   "execution_count": 12,
   "id": "d831aa88",
   "metadata": {},
   "outputs": [],
   "source": [
    "def sequence(uniSet):\n",
    "    setConv = set(uniSet)\n",
    "    if(len(uniSet) == len(setConv)):\n",
    "        print('Sequence of numbers are unique')\n",
    "    else:\n",
    "        print('Sequence of numbers are not unique')"
   ]
  },
  {
   "cell_type": "code",
   "execution_count": 13,
   "id": "adf45a30",
   "metadata": {},
   "outputs": [
    {
     "name": "stdout",
     "output_type": "stream",
     "text": [
      "Sequence of numbers are not unique\n"
     ]
    }
   ],
   "source": [
    "seq = [1,2,3,4,5,6,6]\n",
    "sequence(seq)"
   ]
  },
  {
   "cell_type": "code",
   "execution_count": 14,
   "id": "251556f5",
   "metadata": {},
   "outputs": [
    {
     "name": "stdout",
     "output_type": "stream",
     "text": [
      "Sequence of numbers are unique\n"
     ]
    }
   ],
   "source": [
    "seq = [1,2,3,4,5,6]\n",
    "sequence(seq)"
   ]
  },
  {
   "cell_type": "markdown",
   "id": "92e71454",
   "metadata": {},
   "source": [
    "2. Python program to find out the average of a set of integers\n",
    "a. Note: Don’t use the pre-defined functions like np.mean\n",
    "b. For ex: If input is 5, the output should be average of 1+2+3+4+5"
   ]
  },
  {
   "cell_type": "code",
   "execution_count": 30,
   "id": "60c08261",
   "metadata": {},
   "outputs": [],
   "source": [
    "def average(num):\n",
    "    s = 0\n",
    "    for i in range(1, num+1):\n",
    "        s= s+i\n",
    "    print('Average of first ',num,' numbers is', s/num)"
   ]
  },
  {
   "cell_type": "code",
   "execution_count": 31,
   "id": "99ad61a4",
   "metadata": {},
   "outputs": [
    {
     "name": "stdout",
     "output_type": "stream",
     "text": [
      "Average of first  5  numbers is 3.0\n"
     ]
    }
   ],
   "source": [
    "average(5)"
   ]
  },
  {
   "cell_type": "markdown",
   "id": "be126fc7",
   "metadata": {},
   "source": [
    "3. Python program to check whether the given integer is a multiple of both 5 and 7"
   ]
  },
  {
   "cell_type": "code",
   "execution_count": 33,
   "id": "de7256e4",
   "metadata": {},
   "outputs": [],
   "source": [
    "def multiplesOf5and7(num):\n",
    "    if num % 5 == 0 and num % 7 == 0:\n",
    "        print(num, 'is multiple of 5 and 7')\n",
    "    else:\n",
    "        print(num, 'is not multiple of 5 and 7')"
   ]
  },
  {
   "cell_type": "code",
   "execution_count": 34,
   "id": "58e1418a",
   "metadata": {},
   "outputs": [
    {
     "name": "stdout",
     "output_type": "stream",
     "text": [
      "2 is not multiple of 5 and 7\n"
     ]
    }
   ],
   "source": [
    "multiplesOf5and7(2)"
   ]
  },
  {
   "cell_type": "code",
   "execution_count": 35,
   "id": "075068e9",
   "metadata": {},
   "outputs": [
    {
     "name": "stdout",
     "output_type": "stream",
     "text": [
      "35 is multiple of 5 and 7\n"
     ]
    }
   ],
   "source": [
    "multiplesOf5and7(35)"
   ]
  },
  {
   "cell_type": "markdown",
   "id": "0123fe35",
   "metadata": {},
   "source": [
    "4. Python program to display the given integer in reverse manner\n",
    "a. Ex: input 852, output should be 258"
   ]
  },
  {
   "cell_type": "code",
   "execution_count": 137,
   "id": "ee0f8119",
   "metadata": {},
   "outputs": [],
   "source": [
    "def reverse(number):\n",
    "    num = int(number)\n",
    "    rev = 0\n",
    "    while(num > 0):\n",
    "        rem = num % 10\n",
    "        rev = rev * 10 + rem\n",
    "        num = num // 10\n",
    "    return rev"
   ]
  },
  {
   "cell_type": "code",
   "execution_count": 139,
   "id": "de0f3aa8",
   "metadata": {},
   "outputs": [
    {
     "data": {
      "text/plain": [
       "258"
      ]
     },
     "execution_count": 139,
     "metadata": {},
     "output_type": "execute_result"
    }
   ],
   "source": [
    "reverse('852')"
   ]
  },
  {
   "cell_type": "markdown",
   "id": "55c2d2e1",
   "metadata": {},
   "source": [
    "Create an inner function to calculate the addition in the following way\n",
    "a. Create an outer function that will accept two parameters, a and b\n",
    "b. Create an inner function inside an outer function that will calculate the addition of a \n",
    "and b\n",
    "c. At last, an outer function will add 5 into addition and return it"
   ]
  },
  {
   "cell_type": "code",
   "execution_count": 147,
   "id": "1db16d70",
   "metadata": {},
   "outputs": [],
   "source": [
    "def numbers(a,b):\n",
    "    print(add(a,b)+5)\n",
    "    \n",
    "def add(a,b):\n",
    "    return(a+b)"
   ]
  },
  {
   "cell_type": "code",
   "execution_count": 148,
   "id": "85c4c4c5",
   "metadata": {},
   "outputs": [
    {
     "name": "stdout",
     "output_type": "stream",
     "text": [
      "14\n"
     ]
    }
   ],
   "source": [
    "numbers(4,5)"
   ]
  },
  {
   "cell_type": "markdown",
   "id": "f70de8d9",
   "metadata": {},
   "source": [
    "6.Python Program to Check Leap Year\n",
    "a. A leap year is exactly divisible by 4 except for century years (years ending with 00). \n",
    "The century year is a leap year only if it is perfectly divisible by 400\n",
    "b. For ex: 2017 is not a leap year, 1900 is a not leap year, 2012 is a leap year, 2000 is a \n",
    "leap year"
   ]
  },
  {
   "cell_type": "code",
   "execution_count": 126,
   "id": "3a0da36a",
   "metadata": {},
   "outputs": [],
   "source": [
    "def leapYear(year):\n",
    "    leap = False\n",
    "    \n",
    "    if year%400==0 :\n",
    "        leap = True;\n",
    "    elif year%4 == 0 and year%100 != 0:\n",
    "        leap = True;\n",
    "    return leap"
   ]
  },
  {
   "cell_type": "code",
   "execution_count": 129,
   "id": "bac2edb8",
   "metadata": {},
   "outputs": [
    {
     "data": {
      "text/plain": [
       "True"
      ]
     },
     "execution_count": 129,
     "metadata": {},
     "output_type": "execute_result"
    }
   ],
   "source": [
    "leapYear(2020)"
   ]
  },
  {
   "cell_type": "code",
   "execution_count": 130,
   "id": "e8ccc59c",
   "metadata": {},
   "outputs": [
    {
     "data": {
      "text/plain": [
       "False"
      ]
     },
     "execution_count": 130,
     "metadata": {},
     "output_type": "execute_result"
    }
   ],
   "source": [
    "leapYear(1900)"
   ]
  },
  {
   "cell_type": "code",
   "execution_count": null,
   "id": "4fed697d",
   "metadata": {},
   "outputs": [],
   "source": []
  }
 ],
 "metadata": {
  "kernelspec": {
   "display_name": "Python 3 (ipykernel)",
   "language": "python",
   "name": "python3"
  },
  "language_info": {
   "codemirror_mode": {
    "name": "ipython",
    "version": 3
   },
   "file_extension": ".py",
   "mimetype": "text/x-python",
   "name": "python",
   "nbconvert_exporter": "python",
   "pygments_lexer": "ipython3",
   "version": "3.9.7"
  }
 },
 "nbformat": 4,
 "nbformat_minor": 5
}
